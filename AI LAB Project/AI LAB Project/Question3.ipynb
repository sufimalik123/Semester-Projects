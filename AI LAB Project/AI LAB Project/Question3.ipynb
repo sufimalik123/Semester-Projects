{
 "cells": [
  {
   "cell_type": "code",
   "execution_count": 1,
   "metadata": {},
   "outputs": [],
   "source": [
    "import numpy as np\n",
    "import pandas as pd\n",
    "from sklearn.cluster import KMeans\n",
    "import tkinter as tk\n",
    "from tkinter import ttk, scrolledtext, filedialog"
   ]
  },
  {
   "cell_type": "code",
   "execution_count": 2,
   "metadata": {},
   "outputs": [],
   "source": [
    "# Function to collect room capacities\n",
    "def collect_room_capacities():\n",
    "    # Simulated room capacities\n",
    "    room_capacities = [30] * 25 + [35] * 4 + [25]\n",
    "    return room_capacities"
   ]
  },
  {
   "cell_type": "code",
   "execution_count": 3,
   "metadata": {},
   "outputs": [],
   "source": [
    "# Room Assignment Heuristic\n",
    "def assign_clusters_to_rooms(df, capacities):\n",
    "    cluster_counts = df['Cluster'].value_counts().sort_index()\n",
    "    room_assignments = {}\n",
    "    room_id = 0\n",
    "    for cluster, count in cluster_counts.items():\n",
    "        while count > 0:\n",
    "            available_capacity = capacities[room_id]\n",
    "            room_assignments.setdefault(room_id, []).append(cluster)\n",
    "            count -= available_capacity\n",
    "            room_id = (room_id + 1) % len(capacities)\n",
    "    return room_assignments"
   ]
  },
  {
   "cell_type": "code",
   "execution_count": 4,
   "metadata": {},
   "outputs": [],
   "source": [
    "# Faculty Assignment to Rooms\n",
    "def match_faculty_to_rooms(assignments, faculties):\n",
    "    faculty_assignments = {}\n",
    "    for room, clusters in assignments.items():\n",
    "        common_domain = students_df[students_df['Cluster'].isin(clusters)]['Domain'].mode()\n",
    "        if not common_domain.empty:\n",
    "            faculty = faculties[faculties['Expertise_Domain'] == common_domain.iloc[0]]\n",
    "            if not faculty.empty:\n",
    "                faculty_assignments[room] = faculty.iloc[0]['Faculty_ID']\n",
    "            else:\n",
    "                faculty_assignments[room] = \"No faculty available for Domain\"\n",
    "        else:\n",
    "            faculty_assignments[room] = \"No common domain found\"\n",
    "    return faculty_assignments"
   ]
  },
  {
   "cell_type": "code",
   "execution_count": 5,
   "metadata": {},
   "outputs": [],
   "source": [
    "# Reporting Function\n",
    "def generate_report(room_assignments, faculty_room_assignments):\n",
    "    report = \"Seating Plan and Faculty Assignments Report\\n\\n\"\n",
    "    report += \"Room Assignments:\\n\"\n",
    "    for room, clusters in room_assignments.items():\n",
    "        report += f\"Room {room}: Clusters {clusters}\\n\"\n",
    "    report += \"\\nFaculty Assignments:\\n\"\n",
    "    for room, faculty in faculty_room_assignments.items():\n",
    "        report += f\"Room {room}: Faculty ID {faculty}\\n\"\n",
    "    return report"
   ]
  },
  {
   "cell_type": "code",
   "execution_count": 6,
   "metadata": {},
   "outputs": [],
   "source": [
    "# Save Report to File\n",
    "def save_report(report):\n",
    "    file_path = filedialog.asksaveasfilename(defaultextension=\".txt\", filetypes=[(\"Text files\", \".txt\"), (\"All files\", \".*\")])\n",
    "    if file_path:\n",
    "        with open(file_path, \"w\") as file:\n",
    "            file.write(report)"
   ]
  },
  {
   "cell_type": "code",
   "execution_count": 7,
   "metadata": {},
   "outputs": [
    {
     "name": "stderr",
     "output_type": "stream",
     "text": [
      "c:\\Users\\hp\\AppData\\Local\\Programs\\Python\\Python312\\Lib\\site-packages\\sklearn\\base.py:1474: ConvergenceWarning: Number of distinct clusters (25) found smaller than n_clusters (30). Possibly due to duplicate points in X.\n",
      "  return fit_method(estimator, *args, **kwargs)\n"
     ]
    }
   ],
   "source": [
    "# Tkinter Application Setup\n",
    "root = tk.Tk()\n",
    "root.title(\"Exam Management System\")\n",
    "\n",
    "# Simulating Student Data\n",
    "data = {\n",
    "    'Student_ID': range(1, 2501),\n",
    "    'Domain': np.random.choice([0, 1, 2, 3, 4], 2500),  # CS=0, AI=1, BA=2, SE=3, EE=4\n",
    "    'Batch': np.random.choice([19, 20, 21, 22, 23], 2500)\n",
    "}\n",
    "students_df = pd.DataFrame(data)\n",
    "\n",
    "# K-Means Clustering\n",
    "kmeans = KMeans(n_clusters=30, random_state=0)\n",
    "students_df['Cluster'] = kmeans.fit_predict(students_df[['Domain', 'Batch']])\n",
    "\n",
    "# Simulating Faculty Data\n",
    "faculty_data = {\n",
    "    'Faculty_ID': range(1,31),\n",
    "    'Expertise_Domain': np.random.choice([0, 1, 2, 3, 4], 30)\n",
    "}\n",
    "faculty_df = pd.DataFrame(faculty_data)"
   ]
  },
  {
   "cell_type": "code",
   "execution_count": 8,
   "metadata": {},
   "outputs": [],
   "source": [
    "# Room capacities\n",
    "room_capacities = collect_room_capacities()\n",
    "\n",
    "# Assign clusters to rooms\n",
    "room_assignments = assign_clusters_to_rooms(students_df, room_capacities)\n",
    "\n",
    "# Faculty assignment to rooms\n",
    "faculty_room_assignments = match_faculty_to_rooms(room_assignments, faculty_df)\n",
    "\n",
    "# Generate report\n",
    "report = generate_report(room_assignments, faculty_room_assignments)\n",
    "\n",
    "# Seating Plan and Faculty Assignment Display\n",
    "report_text = scrolledtext.ScrolledText(root, width=80, height=20)\n",
    "report_text.pack()\n",
    "report_text.insert(tk.INSERT, report)\n",
    "\n",
    "# Button to Save Report\n",
    "save_button = ttk.Button(root, text=\"Save Report\", command=lambda: save_report(report))\n",
    "save_button.pack()\n",
    "\n",
    "root.mainloop()\n"
   ]
  }
 ],
 "metadata": {
  "kernelspec": {
   "display_name": "Python 3",
   "language": "python",
   "name": "python3"
  },
  "language_info": {
   "codemirror_mode": {
    "name": "ipython",
    "version": 3
   },
   "file_extension": ".py",
   "mimetype": "text/x-python",
   "name": "python",
   "nbconvert_exporter": "python",
   "pygments_lexer": "ipython3",
   "version": "3.12.2"
  }
 },
 "nbformat": 4,
 "nbformat_minor": 2
}
