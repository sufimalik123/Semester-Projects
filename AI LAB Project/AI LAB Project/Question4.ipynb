{
 "cells": [
  {
   "cell_type": "code",
   "execution_count": 1,
   "metadata": {},
   "outputs": [],
   "source": [
    "import numpy as np\n",
    "from sklearn.datasets import load_iris\n",
    "from sklearn.model_selection import train_test_split\n",
    "from sklearn.preprocessing import StandardScaler"
   ]
  },
  {
   "cell_type": "code",
   "execution_count": 2,
   "metadata": {},
   "outputs": [],
   "source": [
    "# Load Iris dataset\n",
    "iris_data = load_iris()\n",
    "X = iris_data.data\n",
    "y = iris_data.target\n",
    "\n",
    "# Divide the dataset into training and testing sets using a 70/30 ratio\n",
    "X_train, X_test, y_train, y_test = train_test_split(X, y, test_size=0.3, random_state=42)\n",
    "\n",
    "# Standardize features\n",
    "scaler = StandardScaler()\n",
    "X_train_std = scaler.fit_transform(X_train)\n",
    "X_test_std = scaler.transform(X_test)\n",
    "\n",
    "# Add bias term to input features\n",
    "X_train_bias = np.c_[np.ones((X_train_std.shape[0], 1)), X_train_std]\n",
    "X_test_bias = np.c_[np.ones((X_test_std.shape[0], 1)), X_test_std]"
   ]
  },
  {
   "cell_type": "code",
   "execution_count": 3,
   "metadata": {},
   "outputs": [],
   "source": [
    "# Implement the Perceptron Learning Rule\n",
    "class PerceptronLearningRule:\n",
    "    def __init__(self, num_features, learning_rate=0.01):\n",
    "        self.weights = np.zeros(num_features + 1)\n",
    "        self.learning_rate = learning_rate\n",
    "\n",
    "    def _activate(self, x):\n",
    "        return np.where(x >= 0, 1, 0)\n",
    "\n",
    "    def _predict(self, x):\n",
    "        return self._activate(np.dot(x, self.weights[1:]) + self.weights[0])\n",
    "\n",
    "    def train(self, X, y, epochs=100):\n",
    "        for _ in range(epochs):\n",
    "            for xi, yi in zip(X, y):\n",
    "                prediction = self._predict(xi)\n",
    "                error = yi - prediction\n",
    "                self.weights[1:] += self.learning_rate * error * xi\n",
    "                self.weights[0] += self.learning_rate * error\n",
    "\n",
    "    def evaluate(self, X, y):\n",
    "        predictions = self._predict(X)\n",
    "        accuracy = np.mean(predictions == y)\n",
    "        return accuracy\n"
   ]
  },
  {
   "cell_type": "code",
   "execution_count": 4,
   "metadata": {},
   "outputs": [],
   "source": [
    "# Implement sigmoid activation function for Gradient Descent Delta Rule\n",
    "def sigmoid(z):\n",
    "    return 1 / (1 + np.exp(-z))\n",
    "\n",
    "class GradientDescentDeltaRule:\n",
    "    def __init__(self, num_features, learning_rate=0.01):\n",
    "        self.weights = np.zeros(num_features + 1)\n",
    "        self.learning_rate = learning_rate\n",
    "\n",
    "    def _predict(self, X):\n",
    "        z = np.dot(X, self.weights[1:]) + self.weights[0]\n",
    "        return sigmoid(z)\n",
    "\n",
    "    def train(self, X, y, epochs=100):\n",
    "        for _ in range(epochs):\n",
    "            predictions = self._predict(X)\n",
    "            error = y - predictions\n",
    "            gradient = np.dot(X.T, error) / len(X)\n",
    "            self.weights[1:] += self.learning_rate * gradient\n",
    "            self.weights[0] += self.learning_rate * np.mean(error)\n",
    "\n",
    "    def evaluate(self, X, y):\n",
    "        predictions = self._predict(X)\n",
    "        predictions = np.where(predictions >= 0.5, 1, 0)\n",
    "        accuracy = np.mean(predictions == y)\n",
    "        return accuracy"
   ]
  },
  {
   "cell_type": "code",
   "execution_count": 5,
   "metadata": {},
   "outputs": [],
   "source": [
    "# Adjust the learning rates of the models\n",
    "learning_rate_perceptron = 0.1\n",
    "learning_rate_gradient_descent = 0.01"
   ]
  },
  {
   "cell_type": "code",
   "execution_count": 6,
   "metadata": {},
   "outputs": [
    {
     "name": "stdout",
     "output_type": "stream",
     "text": [
      "Perceptron Learning Rule:\n",
      "Accuracy (Train): 0.9714285714285714\n",
      "Accuracy (Test): 1.0\n",
      "\n",
      "Gradient Descent Delta Rule with Sigmoid Activation:\n",
      "Accuracy (Train): 0.8952380952380953\n",
      "Accuracy (Test): 0.8444444444444444\n"
     ]
    }
   ],
   "source": [
    "# Perceptron Learning Rule\n",
    "plr = PerceptronLearningRule(X_train_bias.shape[1], learning_rate_perceptron)\n",
    "plr.train(X_train_bias, (y_train == 2).astype(int))\n",
    "accuracy_perceptron_train = plr.evaluate(X_train_bias, (y_train == 2).astype(int))\n",
    "accuracy_perceptron_test = plr.evaluate(X_test_bias, (y_test == 2).astype(int))\n",
    "\n",
    "print(\"Perceptron Learning Rule:\")\n",
    "print(\"Accuracy (Train):\", accuracy_perceptron_train)\n",
    "print(\"Accuracy (Test):\", accuracy_perceptron_test)\n",
    "\n",
    "# Gradient Descent Delta Rule with sigmoid activation function\n",
    "gddr = GradientDescentDeltaRule(X_train_bias.shape[1], learning_rate_gradient_descent)\n",
    "gddr.train(X_train_bias, (y_train == 2).astype(int))\n",
    "accuracy_gradient_descent_train = gddr.evaluate(X_train_bias, (y_train == 2).astype(int))\n",
    "accuracy_gradient_descent_test = gddr.evaluate(X_test_bias, (y_test == 2).astype(int))\n",
    "\n",
    "print(\"\\nGradient Descent Delta Rule with Sigmoid Activation:\")\n",
    "print(\"Accuracy (Train):\", accuracy_gradient_descent_train)\n",
    "print(\"Accuracy (Test):\", accuracy_gradient_descent_test)\n"
   ]
  }
 ],
 "metadata": {
  "kernelspec": {
   "display_name": "Python 3",
   "language": "python",
   "name": "python3"
  },
  "language_info": {
   "codemirror_mode": {
    "name": "ipython",
    "version": 3
   },
   "file_extension": ".py",
   "mimetype": "text/x-python",
   "name": "python",
   "nbconvert_exporter": "python",
   "pygments_lexer": "ipython3",
   "version": "3.12.2"
  }
 },
 "nbformat": 4,
 "nbformat_minor": 2
}
